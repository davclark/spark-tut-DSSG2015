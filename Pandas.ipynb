{
 "cells": [
  {
   "cell_type": "markdown",
   "metadata": {},
   "source": [
    "## The problem\n",
    "\n",
    "As in the first week, can we predict buildings that will likely fail inspection?"
   ]
  },
  {
   "cell_type": "code",
   "execution_count": 2,
   "metadata": {
    "collapsed": false
   },
   "outputs": [
    {
     "name": "stdout",
     "output_type": "stream",
     "text": [
      "total 1633872\r\n",
      "-rw-r-----@ 1 dav  staff   227M Jun  3 12:11 Building_Permits.csv\r\n",
      "-rw-r-----@ 1 dav  staff   571M Jun  3 12:11 Building_Violations.csv\r\n"
     ]
    }
   ],
   "source": [
    "# So, this would actually fit in memory, but let's pretend not...\n",
    "%ls -lh data"
   ]
  },
  {
   "cell_type": "markdown",
   "metadata": {},
   "source": [
    "## Back to the future\n",
    "\n",
    "Let's pretend I have ~128MB of RAM. This was actually true a long time ago. Probably, we should just put our data in a database, so don't take the following as a recommendation. It's more to illustrate the idea of working out-of-core."
   ]
  },
  {
   "cell_type": "code",
   "execution_count": 32,
   "metadata": {
    "collapsed": false
   },
   "outputs": [],
   "source": [
    "# Just get in the habit of always doing this\n",
    "%matplotlib inline\n",
    "import pandas as pd\n",
    "\n",
    "# I like my code to be Python3-centric, but this is for you still in Python 2\n",
    "from __future__ import division\n",
    "from six import print_"
   ]
  },
  {
   "cell_type": "markdown",
   "metadata": {},
   "source": [
    "Pandas likes to be told how many rows to read per chunk, but we are constrained by bytes. So,  let's have a look at our data."
   ]
  },
  {
   "cell_type": "code",
   "execution_count": 17,
   "metadata": {
    "collapsed": false
   },
   "outputs": [
    {
     "name": "stdout",
     "output_type": "stream",
     "text": [
      "So 50MB is about 85875 lines\n"
     ]
    }
   ],
   "source": [
    "with open('data/Building_Permits.csv') as permit_f:\n",
    "    # 2 ** 20 Bytes is the definition of MB used by ls\n",
    "    some_lines = permit_f.readlines(50 * 2 ** 20)\n",
    "\n",
    "print_('So 50MB is about {} lines'.format(len(some_lines)))"
   ]
  },
  {
   "cell_type": "code",
   "execution_count": 18,
   "metadata": {
    "collapsed": false
   },
   "outputs": [
    {
     "name": "stdout",
     "output_type": "stream",
     "text": [
      "The longest line in that chunk is 2340 bytes\n"
     ]
    }
   ],
   "source": [
    "max_len = 0\n",
    "for line in some_lines:\n",
    "    if len(line) > max_len:\n",
    "        max_len = len(line)\n",
    "\n",
    "print('The longest line in that chunk is {} bytes'.format(max_len))"
   ]
  },
  {
   "cell_type": "markdown",
   "metadata": {},
   "source": [
    "To be safe, we'll assume all lines are 2340 bytes, and so we'll tell pandas to read in about this many lines:\n",
    "\n",
    "$$\n",
    "50\\ MB \\over 2340\\ bytes\\, /\\, line\n",
    "$$"
   ]
  },
  {
   "cell_type": "code",
   "execution_count": 20,
   "metadata": {
    "collapsed": false
   },
   "outputs": [
    {
     "data": {
      "text/plain": [
       "22405"
      ]
     },
     "execution_count": 20,
     "metadata": {},
     "output_type": "execute_result"
    }
   ],
   "source": [
    "50 * 2 ** 20 / 2340"
   ]
  },
  {
   "cell_type": "code",
   "execution_count": 28,
   "metadata": {
    "collapsed": true
   },
   "outputs": [],
   "source": [
    "# Ironically, we are setting low_memory to False, \n",
    "# even though we are pretending to have low memory\n",
    "# This actually won't solve the issue of \"mixed types\"\n",
    "permit_iterator = pd.read_csv('data/Building_Permits.csv', chunksize=22400, low_memory=False)"
   ]
  },
  {
   "cell_type": "code",
   "execution_count": 36,
   "metadata": {
    "collapsed": false
   },
   "outputs": [],
   "source": [
    "for first_chunk in permit_iterator:\n",
    "    # We would normally iterate through, but here, we stop after the first assignment.\n",
    "    # We take advantage of the fact that python leaves the last value\n",
    "    # of the loop variable defined.\n",
    "    break"
   ]
  },
  {
   "cell_type": "code",
   "execution_count": 34,
   "metadata": {
    "collapsed": false
   },
   "outputs": [
    {
     "data": {
      "text/plain": [
       "2.7984619140625"
      ]
     },
     "execution_count": 34,
     "metadata": {},
     "output_type": "execute_result"
    }
   ],
   "source": [
    "# The chunks end up being pretty small (CSV is inefficient)\n",
    "first_chunk.size / 2 ** 20"
   ]
  },
  {
   "cell_type": "code",
   "execution_count": 35,
   "metadata": {
    "collapsed": false
   },
   "outputs": [
    {
     "data": {
      "text/plain": [
       "(22400, 131)"
      ]
     },
     "execution_count": 35,
     "metadata": {},
     "output_type": "execute_result"
    }
   ],
   "source": [
    "first_chunk.shape"
   ]
  },
  {
   "cell_type": "markdown",
   "metadata": {},
   "source": [
    "At this point, we can do piece-wise computations on these chunks."
   ]
  },
  {
   "cell_type": "code",
   "execution_count": null,
   "metadata": {
    "collapsed": true
   },
   "outputs": [],
   "source": []
  }
 ],
 "metadata": {
  "kernelspec": {
   "display_name": "Python 2",
   "language": "python",
   "name": "python2"
  },
  "language_info": {
   "codemirror_mode": {
    "name": "ipython",
    "version": 2
   },
   "file_extension": ".py",
   "mimetype": "text/x-python",
   "name": "python",
   "nbconvert_exporter": "python",
   "pygments_lexer": "ipython2",
   "version": "2.7.10"
  }
 },
 "nbformat": 4,
 "nbformat_minor": 0
}
